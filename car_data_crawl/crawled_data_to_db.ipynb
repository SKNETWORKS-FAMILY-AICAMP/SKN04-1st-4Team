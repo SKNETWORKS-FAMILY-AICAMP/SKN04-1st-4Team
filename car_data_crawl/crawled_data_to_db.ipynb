{
 "cells": [
  {
   "cell_type": "code",
   "execution_count": 1,
   "metadata": {},
   "outputs": [],
   "source": [
    "import pandas as pd \n",
    "import psycopg2"
   ]
  },
  {
   "cell_type": "code",
   "execution_count": 3,
   "metadata": {},
   "outputs": [],
   "source": [
    "data = pd.read_csv('./merged_file.csv').rename(columns={'Unnamed: 0':'지역'})"
   ]
  },
  {
   "cell_type": "code",
   "execution_count": 4,
   "metadata": {},
   "outputs": [
    {
     "name": "stdout",
     "output_type": "stream",
     "text": [
      "All regions have been inserted successfully.\n"
     ]
    }
   ],
   "source": [
    "# 데이터베이스에 연결\n",
    "try:\n",
    "    with psycopg2.connect(\n",
    "        host='0.0.0.0',\n",
    "        dbname='postgres',\n",
    "        user='postgres',\n",
    "        password='qksrkqek12',\n",
    "        port=8874\n",
    "    ) as conn:\n",
    "        with conn.cursor() as cur:\n",
    "            # region 테이블에 지역 값을 삽입하는 쿼리 구성\n",
    "            insert_query = \"\"\"\n",
    "                INSERT INTO project1.region (region_id, region_name)\n",
    "                VALUES (%s, %s)\n",
    "            \"\"\"\n",
    "            \n",
    "            # 데이터프레임의 컬럼에 데이터 넣기 \n",
    "            for r_id, region in enumerate(data['지역'].loc[1:]):\n",
    "                # 예를 들어 현재 연도를 함께 삽입하려는 경우\n",
    "                cur.execute(insert_query, (r_id, region))\n",
    "            \n",
    "            # 변경사항 커밋\n",
    "            conn.commit()\n",
    "            print(\"All regions have been inserted successfully.\")\n",
    "\n",
    "except psycopg2.Error as e:\n",
    "    print(f\"Database error: {e}\")\n",
    "except Exception as e:\n",
    "    print(f\"Error: {e}\")\n"
   ]
  },
  {
   "cell_type": "code",
   "execution_count": null,
   "metadata": {},
   "outputs": [],
   "source": [
    "# region \n",
    "\n",
    "# 데이터베이스에 연결\n",
    "try:\n",
    "    with psycopg2.connect(\n",
    "        host='0.0.0.0',\n",
    "        dbname='postgres',\n",
    "        user='postgres',\n",
    "        password='qksrkqek12',\n",
    "        port=8874\n",
    "    ) as conn:\n",
    "        with conn.cursor() as cur:\n",
    "            # year 테이블에 지역 값을 삽입하는 쿼리 구성\n",
    "            insert_query = \"\"\"\n",
    "                INSERT INTO project1.year (year_id, year_value)\n",
    "                VALUES (%s, %s)\n",
    "            \"\"\"\n",
    "            \n",
    "            # 데이터프레임의 '지역' 컬럼을 순차적으로 year 테이블에 삽입\n",
    "            for y_id, year_val in enumerate(list(data.columns)[1:]):\n",
    "                # 예를 들어 현재 연도를 함께 삽입하려는 경우\n",
    "                cur.execute(insert_query, (y_id, year_val))\n",
    "            \n",
    "            # 변경사항 커밋\n",
    "            conn.commit()\n",
    "            print(\"All regions have been inserted successfully.\")\n",
    "\n",
    "except psycopg2.Error as e:\n",
    "    print(f\"Database error: {e}\")\n",
    "except Exception as e:\n",
    "    print(f\"Error: {e}\")\n"
   ]
  },
  {
   "cell_type": "code",
   "execution_count": null,
   "metadata": {},
   "outputs": [],
   "source": [
    "# registrations\n",
    "wo_total = data.drop(index=0)\n",
    "\n",
    "# 데이터베이스에 연결\n",
    "try:\n",
    "    with psycopg2.connect(\n",
    "        host='0.0.0.0',\n",
    "        dbname='postgres',\n",
    "        user='postgres',\n",
    "        password='qksrkqek12',\n",
    "        port=8874\n",
    "    ) as conn:\n",
    "        with conn.cursor() as cur:\n",
    "            # registration 테이블에 지역 값을 삽입하는 쿼리 구성\n",
    "            insert_query = \"\"\"\n",
    "                INSERT INTO project1.registrations (registration_id, region_id, year_id, registration_val)\n",
    "                VALUES (%s, %s, %s, %s)\n",
    "            \"\"\"\n",
    "            registration_id = 0\n",
    "            # 데이터프레임의 '지역' 컬럼을 순차적으로 year 테이블에 삽입\n",
    "            for region_id, (region_name, row) in enumerate(wo_total.iterrows()):\n",
    "                for y_id, year_val in enumerate(list(wo_total.columns[1:])):\n",
    "                    registration_val = row[year_val]\n",
    "                    cur.execute(insert_query, (registration_id, region_id, y_id, registration_val))\n",
    "                    registration_id += 1\n",
    "            \n",
    "            # 변경사항 커밋\n",
    "            conn.commit()\n",
    "            print(\"All regions have been inserted successfully.\")\n",
    "\n",
    "except psycopg2.Error as e:\n",
    "    print(f\"Database error: {e}\")\n",
    "except Exception as e:\n",
    "    print(f\"Error: {e}\")\n"
   ]
  },
  {
   "cell_type": "code",
   "execution_count": null,
   "metadata": {},
   "outputs": [],
   "source": [
    "# total_sum\n",
    "total_df = data.loc[0]\n",
    "# 데이터베이스에 연결\n",
    "try:\n",
    "    with psycopg2.connect(\n",
    "        host='0.0.0.0',\n",
    "        dbname='postgres',\n",
    "        user='postgres',\n",
    "        password='qksrkqek12',\n",
    "        port=8874\n",
    "    ) as conn:\n",
    "        with conn.cursor() as cur:\n",
    "            # registration 테이블에 지역 값을 삽입하는 쿼리 구성\n",
    "            insert_query = \"\"\"\n",
    "                INSERT INTO project1.total_sum (sum_id, year_id, total_registration)\n",
    "                VALUES (%s, %s, %s)\n",
    "            \"\"\"\n",
    "            sum_id = 0\n",
    "            # 데이터프레임의 '지역' 컬럼을 순차적으로 year 테이블에 삽입\n",
    "            for y_id, regi_val in enumerate(total_df[1:]):\n",
    "                cur.execute(insert_query, (sum_id, y_id, int(regi_val)))\n",
    "                sum_id += 1\n",
    "            \n",
    "            # 변경사항 커밋\n",
    "            conn.commit()\n",
    "            print(\"All regions have been inserted successfully.\")\n",
    "\n",
    "except psycopg2.Error as e:\n",
    "    print(f\"Database error: {e}\")\n",
    "except Exception as e:\n",
    "    print(f\"Error: {e}\")\n"
   ]
  }
 ],
 "metadata": {
  "kernelspec": {
   "display_name": "base",
   "language": "python",
   "name": "python3"
  },
  "language_info": {
   "codemirror_mode": {
    "name": "ipython",
    "version": 3
   },
   "file_extension": ".py",
   "mimetype": "text/x-python",
   "name": "python",
   "nbconvert_exporter": "python",
   "pygments_lexer": "ipython3",
   "version": "3.12.4"
  }
 },
 "nbformat": 4,
 "nbformat_minor": 2
}
